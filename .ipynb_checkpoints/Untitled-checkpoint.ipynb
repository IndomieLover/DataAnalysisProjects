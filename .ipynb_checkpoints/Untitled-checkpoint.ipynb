{
 "cells": [
  {
   "cell_type": "code",
   "execution_count": 2,
   "metadata": {},
   "outputs": [],
   "source": [
    "import numpy as np\n",
    "import pandas as pd\n",
    "import matplotlib.pyplot as plt\n",
    "import math\n",
    "import csv\n",
    "import seaborn as sns\n",
    "%matplotlib inline"
   ]
  },
  {
   "cell_type": "code",
   "execution_count": 3,
   "metadata": {},
   "outputs": [],
   "source": [
    "# chess_df"
   ]
  },
  {
   "cell_type": "code",
   "execution_count": 4,
   "metadata": {},
   "outputs": [
    {
     "data": {
      "text/plain": [
       "0    1.0\n",
       "1    3.0\n",
       "2    5.0\n",
       "3    NaN\n",
       "4    6.0\n",
       "5    8.0\n",
       "dtype: float64"
      ]
     },
     "execution_count": 4,
     "metadata": {},
     "output_type": "execute_result"
    }
   ],
   "source": [
    "s = pd.Series([1,3,5, np.nan,6,8])\n",
    "s"
   ]
  },
  {
   "cell_type": "code",
   "execution_count": 5,
   "metadata": {},
   "outputs": [
    {
     "data": {
      "text/plain": [
       "DatetimeIndex(['2019-11-15', '2019-11-16', '2019-11-17', '2019-11-18',\n",
       "               '2019-11-19'],\n",
       "              dtype='datetime64[ns]', freq='D')"
      ]
     },
     "execution_count": 5,
     "metadata": {},
     "output_type": "execute_result"
    }
   ],
   "source": [
    "dates = pd.date_range('20191115', periods=5,freq='D')\n",
    "dates"
   ]
  },
  {
   "cell_type": "code",
   "execution_count": 6,
   "metadata": {},
   "outputs": [
    {
     "name": "stdout",
     "output_type": "stream",
     "text": [
      "[2 2 2 2]\n"
     ]
    },
    {
     "data": {
      "text/html": [
       "<div>\n",
       "<style scoped>\n",
       "    .dataframe tbody tr th:only-of-type {\n",
       "        vertical-align: middle;\n",
       "    }\n",
       "\n",
       "    .dataframe tbody tr th {\n",
       "        vertical-align: top;\n",
       "    }\n",
       "\n",
       "    .dataframe thead th {\n",
       "        text-align: right;\n",
       "    }\n",
       "</style>\n",
       "<table border=\"1\" class=\"dataframe\">\n",
       "  <thead>\n",
       "    <tr style=\"text-align: right;\">\n",
       "      <th></th>\n",
       "      <th>A</th>\n",
       "      <th>B</th>\n",
       "      <th>C</th>\n",
       "      <th>D</th>\n",
       "      <th>E</th>\n",
       "      <th>F</th>\n",
       "    </tr>\n",
       "  </thead>\n",
       "  <tbody>\n",
       "    <tr>\n",
       "      <th>0</th>\n",
       "      <td>1</td>\n",
       "      <td>2013-01-02</td>\n",
       "      <td>1.0</td>\n",
       "      <td>2</td>\n",
       "      <td>test</td>\n",
       "      <td>foo</td>\n",
       "    </tr>\n",
       "    <tr>\n",
       "      <th>1</th>\n",
       "      <td>1</td>\n",
       "      <td>2013-01-02</td>\n",
       "      <td>1.0</td>\n",
       "      <td>2</td>\n",
       "      <td>foa</td>\n",
       "      <td>foo</td>\n",
       "    </tr>\n",
       "    <tr>\n",
       "      <th>2</th>\n",
       "      <td>1</td>\n",
       "      <td>2013-01-02</td>\n",
       "      <td>1.0</td>\n",
       "      <td>2</td>\n",
       "      <td>test</td>\n",
       "      <td>foo</td>\n",
       "    </tr>\n",
       "    <tr>\n",
       "      <th>3</th>\n",
       "      <td>1</td>\n",
       "      <td>2013-01-02</td>\n",
       "      <td>1.0</td>\n",
       "      <td>2</td>\n",
       "      <td>train</td>\n",
       "      <td>foo</td>\n",
       "    </tr>\n",
       "  </tbody>\n",
       "</table>\n",
       "</div>"
      ],
      "text/plain": [
       "   A          B    C  D      E    F\n",
       "0  1 2013-01-02  1.0  2   test  foo\n",
       "1  1 2013-01-02  1.0  2    foa  foo\n",
       "2  1 2013-01-02  1.0  2   test  foo\n",
       "3  1 2013-01-02  1.0  2  train  foo"
      ]
     },
     "execution_count": 6,
     "metadata": {},
     "output_type": "execute_result"
    }
   ],
   "source": [
    "abc=dict({'A': 1,\n",
    "                    'B': pd.Timestamp('20130102'),\n",
    "                    'C': pd.Series(1, index=list(range(4)), dtype='float32'),\n",
    "                    'D': np.array([2]*4, dtype='int32'),\n",
    "                    'E': pd.Categorical([\"test\", \"foa\", \"test\", \"train\"]),\n",
    "                    'F': 'foo'})\n",
    "print(abc['D'])\n",
    "df2 = pd.DataFrame(abc)\n",
    "df2"
   ]
  },
  {
   "cell_type": "code",
   "execution_count": 7,
   "metadata": {
    "scrolled": true
   },
   "outputs": [
    {
     "data": {
      "text/html": [
       "<div>\n",
       "<style scoped>\n",
       "    .dataframe tbody tr th:only-of-type {\n",
       "        vertical-align: middle;\n",
       "    }\n",
       "\n",
       "    .dataframe tbody tr th {\n",
       "        vertical-align: top;\n",
       "    }\n",
       "\n",
       "    .dataframe thead th {\n",
       "        text-align: right;\n",
       "    }\n",
       "</style>\n",
       "<table border=\"1\" class=\"dataframe\">\n",
       "  <thead>\n",
       "    <tr style=\"text-align: right;\">\n",
       "      <th></th>\n",
       "      <th>A</th>\n",
       "      <th>B</th>\n",
       "      <th>C</th>\n",
       "      <th>D</th>\n",
       "    </tr>\n",
       "  </thead>\n",
       "  <tbody>\n",
       "    <tr>\n",
       "      <th>2019-11-15</th>\n",
       "      <td>-0.231669</td>\n",
       "      <td>0.879572</td>\n",
       "      <td>-0.161073</td>\n",
       "      <td>-1.361569</td>\n",
       "    </tr>\n",
       "    <tr>\n",
       "      <th>2019-11-16</th>\n",
       "      <td>-1.848111</td>\n",
       "      <td>1.544679</td>\n",
       "      <td>-1.120033</td>\n",
       "      <td>0.929549</td>\n",
       "    </tr>\n",
       "    <tr>\n",
       "      <th>2019-11-17</th>\n",
       "      <td>1.762229</td>\n",
       "      <td>-0.143904</td>\n",
       "      <td>0.995899</td>\n",
       "      <td>1.498357</td>\n",
       "    </tr>\n",
       "    <tr>\n",
       "      <th>2019-11-18</th>\n",
       "      <td>0.490609</td>\n",
       "      <td>1.111373</td>\n",
       "      <td>-0.798318</td>\n",
       "      <td>-1.094977</td>\n",
       "    </tr>\n",
       "    <tr>\n",
       "      <th>2019-11-19</th>\n",
       "      <td>-0.365463</td>\n",
       "      <td>0.411454</td>\n",
       "      <td>-0.319377</td>\n",
       "      <td>0.660169</td>\n",
       "    </tr>\n",
       "  </tbody>\n",
       "</table>\n",
       "</div>"
      ],
      "text/plain": [
       "                   A         B         C         D\n",
       "2019-11-15 -0.231669  0.879572 -0.161073 -1.361569\n",
       "2019-11-16 -1.848111  1.544679 -1.120033  0.929549\n",
       "2019-11-17  1.762229 -0.143904  0.995899  1.498357\n",
       "2019-11-18  0.490609  1.111373 -0.798318 -1.094977\n",
       "2019-11-19 -0.365463  0.411454 -0.319377  0.660169"
      ]
     },
     "execution_count": 7,
     "metadata": {},
     "output_type": "execute_result"
    }
   ],
   "source": [
    "df = pd.DataFrame(np.random.randn(5, 4), index=dates, columns=list('ABCD'))\n",
    "df"
   ]
  },
  {
   "cell_type": "code",
   "execution_count": 8,
   "metadata": {},
   "outputs": [
    {
     "data": {
      "text/plain": [
       "A   -0.231669\n",
       "B    0.879572\n",
       "C   -0.161073\n",
       "D   -1.361569\n",
       "Name: 2019-11-15 00:00:00, dtype: float64"
      ]
     },
     "execution_count": 8,
     "metadata": {},
     "output_type": "execute_result"
    }
   ],
   "source": [
    "df.loc[dates[0]]"
   ]
  },
  {
   "cell_type": "code",
   "execution_count": 63,
   "metadata": {},
   "outputs": [
    {
     "data": {
      "text/html": [
       "<div>\n",
       "<style scoped>\n",
       "    .dataframe tbody tr th:only-of-type {\n",
       "        vertical-align: middle;\n",
       "    }\n",
       "\n",
       "    .dataframe tbody tr th {\n",
       "        vertical-align: top;\n",
       "    }\n",
       "\n",
       "    .dataframe thead th {\n",
       "        text-align: right;\n",
       "    }\n",
       "</style>\n",
       "<table border=\"1\" class=\"dataframe\">\n",
       "  <thead>\n",
       "    <tr style=\"text-align: right;\">\n",
       "      <th></th>\n",
       "      <th>id</th>\n",
       "      <th>rated</th>\n",
       "      <th>created_at</th>\n",
       "      <th>last_move_at</th>\n",
       "      <th>turns</th>\n",
       "      <th>victory_status</th>\n",
       "      <th>winner</th>\n",
       "      <th>increment_code</th>\n",
       "      <th>white_id</th>\n",
       "      <th>white_rating</th>\n",
       "      <th>black_id</th>\n",
       "      <th>black_rating</th>\n",
       "      <th>moves</th>\n",
       "      <th>opening_eco</th>\n",
       "      <th>opening_name</th>\n",
       "      <th>opening_ply</th>\n",
       "    </tr>\n",
       "  </thead>\n",
       "  <tbody>\n",
       "    <tr>\n",
       "      <th>2</th>\n",
       "      <td>mIICvQHh</td>\n",
       "      <td>True</td>\n",
       "      <td>1.504130e+12</td>\n",
       "      <td>1.504130e+12</td>\n",
       "      <td>61</td>\n",
       "      <td>mate</td>\n",
       "      <td>white</td>\n",
       "      <td>5+10</td>\n",
       "      <td>ischia</td>\n",
       "      <td>1496</td>\n",
       "      <td>a-00</td>\n",
       "      <td>1500</td>\n",
       "      <td>e4 e5 d3 d6 Be3 c6 Be2 b5 Nd2 a5 a4 c5 axb5 Nc...</td>\n",
       "      <td>C20</td>\n",
       "      <td>King's Pawn Game: Leonardis Variation</td>\n",
       "      <td>3</td>\n",
       "    </tr>\n",
       "    <tr>\n",
       "      <th>3</th>\n",
       "      <td>kWKvrqYL</td>\n",
       "      <td>True</td>\n",
       "      <td>1.504110e+12</td>\n",
       "      <td>1.504110e+12</td>\n",
       "      <td>61</td>\n",
       "      <td>mate</td>\n",
       "      <td>white</td>\n",
       "      <td>20+0</td>\n",
       "      <td>daniamurashov</td>\n",
       "      <td>1439</td>\n",
       "      <td>adivanov2009</td>\n",
       "      <td>1454</td>\n",
       "      <td>d4 d5 Nf3 Bf5 Nc3 Nf6 Bf4 Ng4 e3 Nc6 Be2 Qd7 O...</td>\n",
       "      <td>D02</td>\n",
       "      <td>Queen's Pawn Game: Zukertort Variation</td>\n",
       "      <td>3</td>\n",
       "    </tr>\n",
       "    <tr>\n",
       "      <th>4</th>\n",
       "      <td>9tXo1AUZ</td>\n",
       "      <td>True</td>\n",
       "      <td>1.504030e+12</td>\n",
       "      <td>1.504030e+12</td>\n",
       "      <td>95</td>\n",
       "      <td>mate</td>\n",
       "      <td>white</td>\n",
       "      <td>30+3</td>\n",
       "      <td>nik221107</td>\n",
       "      <td>1523</td>\n",
       "      <td>adivanov2009</td>\n",
       "      <td>1469</td>\n",
       "      <td>e4 e5 Nf3 d6 d4 Nc6 d5 Nb4 a3 Na6 Nc3 Be7 b4 N...</td>\n",
       "      <td>C41</td>\n",
       "      <td>Philidor Defense</td>\n",
       "      <td>5</td>\n",
       "    </tr>\n",
       "    <tr>\n",
       "      <th>9</th>\n",
       "      <td>afoMwnLg</td>\n",
       "      <td>True</td>\n",
       "      <td>1.503440e+12</td>\n",
       "      <td>1.503440e+12</td>\n",
       "      <td>119</td>\n",
       "      <td>mate</td>\n",
       "      <td>white</td>\n",
       "      <td>10+0</td>\n",
       "      <td>daniel_likes_chess</td>\n",
       "      <td>1381</td>\n",
       "      <td>mirco25</td>\n",
       "      <td>1209</td>\n",
       "      <td>e4 d5 exd5 Qxd5 Nc3 Qe5+ Be2 Na6 d4 Qf5 Bxa6 b...</td>\n",
       "      <td>B01</td>\n",
       "      <td>Scandinavian Defense: Mieses-Kotroc Variation</td>\n",
       "      <td>4</td>\n",
       "    </tr>\n",
       "    <tr>\n",
       "      <th>10</th>\n",
       "      <td>HgKLWPsz</td>\n",
       "      <td>False</td>\n",
       "      <td>1.503350e+12</td>\n",
       "      <td>1.503350e+12</td>\n",
       "      <td>39</td>\n",
       "      <td>mate</td>\n",
       "      <td>white</td>\n",
       "      <td>20+60</td>\n",
       "      <td>daniel_likes_chess</td>\n",
       "      <td>1381</td>\n",
       "      <td>anaissac</td>\n",
       "      <td>1272</td>\n",
       "      <td>e3 e6 d4 d6 Bd3 c6 Nf3 Be7 Nc3 Nf6 Bd2 Bd7 Qe2...</td>\n",
       "      <td>A00</td>\n",
       "      <td>Van't Kruijs Opening</td>\n",
       "      <td>1</td>\n",
       "    </tr>\n",
       "    <tr>\n",
       "      <th>14</th>\n",
       "      <td>u7i6dOaJ</td>\n",
       "      <td>False</td>\n",
       "      <td>1.504090e+12</td>\n",
       "      <td>1.504100e+12</td>\n",
       "      <td>31</td>\n",
       "      <td>mate</td>\n",
       "      <td>white</td>\n",
       "      <td>15+15</td>\n",
       "      <td>shivangithegenius</td>\n",
       "      <td>1094</td>\n",
       "      <td>sureka_akshat</td>\n",
       "      <td>1141</td>\n",
       "      <td>e4 e5 Nf3 Nc6 Bc4 Nf6 Nc3 Bc5 O-O O-O d3 Ne8 B...</td>\n",
       "      <td>C50</td>\n",
       "      <td>Four Knights Game: Italian Variation</td>\n",
       "      <td>8</td>\n",
       "    </tr>\n",
       "    <tr>\n",
       "      <th>17</th>\n",
       "      <td>EwaK0IsE</td>\n",
       "      <td>False</td>\n",
       "      <td>1.504010e+12</td>\n",
       "      <td>1.504010e+12</td>\n",
       "      <td>66</td>\n",
       "      <td>mate</td>\n",
       "      <td>black</td>\n",
       "      <td>15+16</td>\n",
       "      <td>sureka_akshat</td>\n",
       "      <td>1141</td>\n",
       "      <td>shivangithegenius</td>\n",
       "      <td>1094</td>\n",
       "      <td>e4 e5 Nf3 Nc6 Bc4 Nf6 Nc3 Bc5 O-O O-O Ne1 Ne8 ...</td>\n",
       "      <td>C50</td>\n",
       "      <td>Four Knights Game: Italian Variation</td>\n",
       "      <td>8</td>\n",
       "    </tr>\n",
       "    <tr>\n",
       "      <th>25</th>\n",
       "      <td>ifUMWtVj</td>\n",
       "      <td>True</td>\n",
       "      <td>1.502780e+12</td>\n",
       "      <td>1.502780e+12</td>\n",
       "      <td>69</td>\n",
       "      <td>mate</td>\n",
       "      <td>white</td>\n",
       "      <td>10+10</td>\n",
       "      <td>shivangithegenius</td>\n",
       "      <td>1078</td>\n",
       "      <td>sureka_akshat</td>\n",
       "      <td>1219</td>\n",
       "      <td>d4 d5 Nc3 Nf6 Bf4 Bf5 Nf3 e6 e3 Be7 Bb5+ c6 Bd...</td>\n",
       "      <td>D01</td>\n",
       "      <td>Queen's Pawn Game: Chigorin Variation</td>\n",
       "      <td>4</td>\n",
       "    </tr>\n",
       "    <tr>\n",
       "      <th>27</th>\n",
       "      <td>srz9QfSN</td>\n",
       "      <td>True</td>\n",
       "      <td>1.502780e+12</td>\n",
       "      <td>1.502780e+12</td>\n",
       "      <td>54</td>\n",
       "      <td>mate</td>\n",
       "      <td>black</td>\n",
       "      <td>10+10</td>\n",
       "      <td>mannat1</td>\n",
       "      <td>1328</td>\n",
       "      <td>shivangithegenius</td>\n",
       "      <td>1038</td>\n",
       "      <td>d4 d5 Nc3 Nf6 Nf3 Nc6 e3 Bf5 h4 e6 g3 Bb4 a3 B...</td>\n",
       "      <td>D01</td>\n",
       "      <td>Queen's Pawn Game: Chigorin Variation</td>\n",
       "      <td>4</td>\n",
       "    </tr>\n",
       "    <tr>\n",
       "      <th>29</th>\n",
       "      <td>M3vpf2Ki</td>\n",
       "      <td>True</td>\n",
       "      <td>1.502780e+12</td>\n",
       "      <td>1.502780e+12</td>\n",
       "      <td>66</td>\n",
       "      <td>mate</td>\n",
       "      <td>black</td>\n",
       "      <td>10+10</td>\n",
       "      <td>shivangithegenius</td>\n",
       "      <td>1077</td>\n",
       "      <td>chinmaysharma</td>\n",
       "      <td>1148</td>\n",
       "      <td>d4 d5 c4 Nf6 Nc3 Nc6 Nf3 e6 e3 Bd6 Bd3 Ne4 Bxe...</td>\n",
       "      <td>D06</td>\n",
       "      <td>Queen's Gambit Refused: Marshall Defense</td>\n",
       "      <td>4</td>\n",
       "    </tr>\n",
       "  </tbody>\n",
       "</table>\n",
       "</div>"
      ],
      "text/plain": [
       "          id  rated    created_at  last_move_at  turns victory_status winner  \\\n",
       "2   mIICvQHh   True  1.504130e+12  1.504130e+12     61           mate  white   \n",
       "3   kWKvrqYL   True  1.504110e+12  1.504110e+12     61           mate  white   \n",
       "4   9tXo1AUZ   True  1.504030e+12  1.504030e+12     95           mate  white   \n",
       "9   afoMwnLg   True  1.503440e+12  1.503440e+12    119           mate  white   \n",
       "10  HgKLWPsz  False  1.503350e+12  1.503350e+12     39           mate  white   \n",
       "14  u7i6dOaJ  False  1.504090e+12  1.504100e+12     31           mate  white   \n",
       "17  EwaK0IsE  False  1.504010e+12  1.504010e+12     66           mate  black   \n",
       "25  ifUMWtVj   True  1.502780e+12  1.502780e+12     69           mate  white   \n",
       "27  srz9QfSN   True  1.502780e+12  1.502780e+12     54           mate  black   \n",
       "29  M3vpf2Ki   True  1.502780e+12  1.502780e+12     66           mate  black   \n",
       "\n",
       "   increment_code            white_id  white_rating           black_id  \\\n",
       "2            5+10              ischia          1496               a-00   \n",
       "3            20+0       daniamurashov          1439       adivanov2009   \n",
       "4            30+3           nik221107          1523       adivanov2009   \n",
       "9            10+0  daniel_likes_chess          1381            mirco25   \n",
       "10          20+60  daniel_likes_chess          1381           anaissac   \n",
       "14          15+15   shivangithegenius          1094      sureka_akshat   \n",
       "17          15+16       sureka_akshat          1141  shivangithegenius   \n",
       "25          10+10   shivangithegenius          1078      sureka_akshat   \n",
       "27          10+10             mannat1          1328  shivangithegenius   \n",
       "29          10+10   shivangithegenius          1077      chinmaysharma   \n",
       "\n",
       "    black_rating                                              moves  \\\n",
       "2           1500  e4 e5 d3 d6 Be3 c6 Be2 b5 Nd2 a5 a4 c5 axb5 Nc...   \n",
       "3           1454  d4 d5 Nf3 Bf5 Nc3 Nf6 Bf4 Ng4 e3 Nc6 Be2 Qd7 O...   \n",
       "4           1469  e4 e5 Nf3 d6 d4 Nc6 d5 Nb4 a3 Na6 Nc3 Be7 b4 N...   \n",
       "9           1209  e4 d5 exd5 Qxd5 Nc3 Qe5+ Be2 Na6 d4 Qf5 Bxa6 b...   \n",
       "10          1272  e3 e6 d4 d6 Bd3 c6 Nf3 Be7 Nc3 Nf6 Bd2 Bd7 Qe2...   \n",
       "14          1141  e4 e5 Nf3 Nc6 Bc4 Nf6 Nc3 Bc5 O-O O-O d3 Ne8 B...   \n",
       "17          1094  e4 e5 Nf3 Nc6 Bc4 Nf6 Nc3 Bc5 O-O O-O Ne1 Ne8 ...   \n",
       "25          1219  d4 d5 Nc3 Nf6 Bf4 Bf5 Nf3 e6 e3 Be7 Bb5+ c6 Bd...   \n",
       "27          1038  d4 d5 Nc3 Nf6 Nf3 Nc6 e3 Bf5 h4 e6 g3 Bb4 a3 B...   \n",
       "29          1148  d4 d5 c4 Nf6 Nc3 Nc6 Nf3 e6 e3 Bd6 Bd3 Ne4 Bxe...   \n",
       "\n",
       "   opening_eco                                   opening_name  opening_ply  \n",
       "2          C20          King's Pawn Game: Leonardis Variation            3  \n",
       "3          D02         Queen's Pawn Game: Zukertort Variation            3  \n",
       "4          C41                               Philidor Defense            5  \n",
       "9          B01  Scandinavian Defense: Mieses-Kotroc Variation            4  \n",
       "10         A00                           Van't Kruijs Opening            1  \n",
       "14         C50           Four Knights Game: Italian Variation            8  \n",
       "17         C50           Four Knights Game: Italian Variation            8  \n",
       "25         D01          Queen's Pawn Game: Chigorin Variation            4  \n",
       "27         D01          Queen's Pawn Game: Chigorin Variation            4  \n",
       "29         D06       Queen's Gambit Refused: Marshall Defense            4  "
      ]
     },
     "execution_count": 63,
     "metadata": {},
     "output_type": "execute_result"
    }
   ],
   "source": [
    "chess_raw_df = pd.read_csv('games.csv')\n",
    "chess_df = chess_raw_df[chess_raw_df['rated']==True]\n",
    "chess_df = chess_raw_df[chess_raw_df['victory_status']==\"mate\"]\n",
    "chess_df.head(10)\n",
    "# print(heatmap2[0][2])\n",
    "# heatmap=[[8] for i in range(8)]\n",
    "# heatmap[0]=1\n",
    "# print(heatmap[2])\n",
    "# np.where(df['Set']=='Z', 'green', 'red')\n",
    "# data\n",
    "# defak=chess_df.predict()\n",
    "# a=1\n",
    "# print(-a)\n",
    "# print(Kelvin)\n",
    "# tes='a'\n",
    "# tes2='b'\n",
    "# print(int(tes2)-int(tes))"
   ]
  },
  {
   "cell_type": "code",
   "execution_count": 45,
   "metadata": {},
   "outputs": [],
   "source": [
    "pieces={\n",
    "    \"K\":np.zeros((8,8),dtype=int), #King\n",
    "    \"Q\":np.zeros((8,8),dtype=int), #Queen\n",
    "    \"R\":np.zeros((8,8),dtype=int), #Rook\n",
    "    \"B\":np.zeros((8,8),dtype=int), #Bishop\n",
    "    \"N\":np.zeros((8,8),dtype=int)  #Knight\n",
    "}\n",
    "heatmap={\n",
    "    \"win\":{\n",
    "        \"white\":pieces,\n",
    "        \"black\":pieces\n",
    "    },\n",
    "    \"lose\":{\n",
    "        \"white\":pieces,\n",
    "        \"black\":pieces\n",
    "    }\n",
    "}"
   ]
  },
  {
   "cell_type": "code",
   "execution_count": 71,
   "metadata": {
    "scrolled": true
   },
   "outputs": [],
   "source": [
    "for i in range(len(chess_df)//2):\n",
    "    splitted=chess_df.iloc[i]['moves'].split()\n",
    "    stat=chess_df.iloc[i]['moves'].split()\n",
    "    for en, spl in enumerate(splitted):\n",
    "        if (spl[-2]=='='):\n",
    "            continue\n",
    "        if (spl[-1]=='+' or spl[-1]=='#'):\n",
    "            spl=spl[:-1]\n",
    "        color = \"white\" if en%2==0 else \"black\"\n",
    "        heatmap[stat][color][spl[0]][int(spl[-1])-1][ord(spl[-2])-ord('a')]+=1\n",
    "#         if ((en%2)==0):\n",
    "#             heatmap[stat][\"white\"]\n",
    "#             if (spl[0]=='Q'):\n",
    "#                 heatmap[stat][]\n",
    "#                 heatmap_q[int(spl[-1])-1][ord(spl[-2])-ord('a')]+=1\n",
    "#             elif (spl[0]=='K'):\n",
    "#                 heatmap_k[int(spl[-1])-1][ord(spl[-2])-ord('a')]+=1\n",
    "#             elif (spl[0]=='R'):\n",
    "#                 heatmap_r[int(spl[-1])-1][ord(spl[-2])-ord('a')]+=1\n",
    "#             elif (spl[0]=='B'):\n",
    "#                 heatmap_b[int(spl[-1])-1][ord(spl[-2])-ord('a')]+=1\n",
    "#             elif (spl[0]=='N'):\n",
    "#                 heatmap_n[int(spl[-1])-1][ord(spl[-2])-ord('a')]+=1\n",
    "#         else:\n",
    "#             if (spl[0]=='Q'):\n",
    "#                 heatmap_q[int(spl[-1])-1][ord(spl[-2])-ord('a')]+=1\n",
    "#             elif (spl[0]=='K'):\n",
    "#                 heatmap_k[int(spl[-1])-1][ord(spl[-2])-ord('a')]+=1\n",
    "#             elif (spl[0]=='R'):\n",
    "#                 heatmap_r[int(spl[-1])-1][ord(spl[-2])-ord('a')]+=1\n",
    "#             elif (spl[0]=='B'):\n",
    "#                 heatmap_b[int(spl[-1])-1][ord(spl[-2])-ord('a')]+=1\n",
    "#             elif (spl[0]=='N'):\n",
    "#                 heatmap_n[int(spl[-1])-1][ord(spl[-2])-ord('a')]+=1\n",
    "#         print(spl)\n",
    "#         print(spl[-1])\n",
    "#         break\n",
    "#         if spl[]\n",
    "#         if spl[len(spl)-1]!='+' and spl[len(spl)-1]!='#' and spl!=\"O-O\" and spl!=\"O-O-O\" and spl[-2]!=\"=\":\n",
    "# #             print(ord(spl[-2])-ord('a'))\n",
    "# #             print(spl[-1])\n",
    "# #             print(spl)\n",
    "#             heatmap[spl[-1]][ord(spl[-2])-ord('a')]=heatmap[spl[-1]][ord(spl[-2])-ord('a')]+1\n",
    "#             print()\n",
    "#     print(splitted)"
   ]
  },
  {
   "cell_type": "code",
   "execution_count": 20,
   "metadata": {},
   "outputs": [],
   "source": [
    "a=chess_df.iloc[i]['moves']"
   ]
  },
  {
   "cell_type": "code",
   "execution_count": 26,
   "metadata": {},
   "outputs": [],
   "source": [
    "i=a.split()"
   ]
  },
  {
   "cell_type": "code",
   "execution_count": 42,
   "metadata": {},
   "outputs": [
    {
     "name": "stdout",
     "output_type": "stream",
     "text": [
      "e\n"
     ]
    }
   ],
   "source": [
    "ala=\"oke6\"\n",
    "print(ala[-2])"
   ]
  },
  {
   "cell_type": "code",
   "execution_count": 28,
   "metadata": {},
   "outputs": [
    {
     "data": {
      "text/plain": [
       "<matplotlib.axes._subplots.AxesSubplot at 0x7f4d6d4fea58>"
      ]
     },
     "execution_count": 28,
     "metadata": {},
     "output_type": "execute_result"
    },
    {
     "data": {
      "image/png": "[encoded data removed]",
      "text/plain": [
       "<Figure size 432x288 with 1 Axes>"
      ]
     },
     "metadata": {
      "needs_background": "light"
     },
     "output_type": "display_data"
    }
   ],
   "source": [
    "df.plot()"
   ]
  },
  {
   "cell_type": "code",
   "execution_count": 72,
   "metadata": {},
   "outputs": [
    {
     "name": "stdout",
     "output_type": "stream",
     "text": [
      "QUEEN\n"
     ]
    },
    {
     "data": {
      "text/plain": [
       "<matplotlib.axes._subplots.AxesSubplot at 0x7f41584e94e0>"
      ]
     },
     "execution_count": 72,
     "metadata": {},
     "output_type": "execute_result"
    },
    {
     "data": {
      "image/png": "[encoded data removed]",
      "text/plain": [
       "<Figure size 1440x360 with 2 Axes>"
      ]
     },
     "metadata": {
      "needs_background": "light"
     },
     "output_type": "display_data"
    }
   ],
   "source": [
    "plt.subplots(figsize=(20,5))\n",
    "print(\"QUEEN\")\n",
    "sns.heatmap(heatmap_q,annot=True ,square=True, fmt=\".1f\")"
   ]
  },
  {
   "cell_type": "code",
   "execution_count": 73,
   "metadata": {},
   "outputs": [
    {
     "name": "stdout",
     "output_type": "stream",
     "text": [
      "KING\n"
     ]
    },
    {
     "data": {
      "text/plain": [
       "<matplotlib.axes._subplots.AxesSubplot at 0x7f415840b048>"
      ]
     },
     "execution_count": 73,
     "metadata": {},
     "output_type": "execute_result"
    },
    {
     "data": {
      "image/png": "[encoded data removed]",
      "text/plain": [
       "<Figure size 432x288 with 2 Axes>"
      ]
     },
     "metadata": {
      "needs_background": "light"
     },
     "output_type": "display_data"
    }
   ],
   "source": [
    "print(\"KING\")\n",
    "sns.heatmap(heatmap_k,annot=True ,square=True, fmt=\".1f\")"
   ]
  },
  {
   "cell_type": "code",
   "execution_count": null,
   "metadata": {},
   "outputs": [],
   "source": []
  },
  {
   "cell_type": "code",
   "execution_count": null,
   "metadata": {},
   "outputs": [],
   "source": []
  },
  {
   "cell_type": "code",
   "execution_count": null,
   "metadata": {},
   "outputs": [],
   "source": []
  },
  {
   "cell_type": "code",
   "execution_count": null,
   "metadata": {},
   "outputs": [],
   "source": []
  },
  {
   "cell_type": "code",
   "execution_count": null,
   "metadata": {},
   "outputs": [],
   "source": []
  },
  {
   "cell_type": "code",
   "execution_count": null,
   "metadata": {},
   "outputs": [],
   "source": []
  },
  {
   "cell_type": "code",
   "execution_count": null,
   "metadata": {},
   "outputs": [],
   "source": []
  }
 ],
 "metadata": {
  "kernelspec": {
   "display_name": "Python 3",
   "language": "python",
   "name": "python3"
  },
  "language_info": {
   "codemirror_mode": {
    "name": "ipython",
    "version": 3
   },
   "file_extension": ".py",
   "mimetype": "text/x-python",
   "name": "python",
   "nbconvert_exporter": "python",
   "pygments_lexer": "ipython3",
   "version": "3.6.8"
  }
 },
 "nbformat": 4,
 "nbformat_minor": 2
}
